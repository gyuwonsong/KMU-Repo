{
  "nbformat": 4,
  "nbformat_minor": 0,
  "metadata": {
    "colab": {
      "provenance": []
    },
    "kernelspec": {
      "name": "python3",
      "display_name": "Python 3"
    },
    "language_info": {
      "name": "python"
    }
  },
  "cells": [
    {
      "cell_type": "code",
      "execution_count": 12,
      "metadata": {
        "colab": {
          "base_uri": "https://localhost:8080/",
          "height": 424
        },
        "id": "ZrUwi_IavIJS",
        "outputId": "22704c09-db65-4d58-ba5a-1a7e8da2ae5f"
      },
      "outputs": [
        {
          "output_type": "execute_result",
          "data": {
            "text/plain": [
              "       a    b    c    d           label\n",
              "0    5.1  3.5  1.4  0.2     Iris-setosa\n",
              "1    4.9  3.0  1.4  0.2     Iris-setosa\n",
              "2    4.7  3.2  1.3  0.2     Iris-setosa\n",
              "3    4.6  3.1  1.5  0.2     Iris-setosa\n",
              "4    5.0  3.6  1.4  0.2     Iris-setosa\n",
              "..   ...  ...  ...  ...             ...\n",
              "145  6.7  3.0  5.2  2.3  Iris-virginica\n",
              "146  6.3  2.5  5.0  1.9  Iris-virginica\n",
              "147  6.5  3.0  5.2  2.0  Iris-virginica\n",
              "148  6.2  3.4  5.4  2.3  Iris-virginica\n",
              "149  5.9  3.0  5.1  1.8  Iris-virginica\n",
              "\n",
              "[150 rows x 5 columns]"
            ],
            "text/html": [
              "\n",
              "  <div id=\"df-1427c41c-e7ff-4a2d-a941-609d23f96306\">\n",
              "    <div class=\"colab-df-container\">\n",
              "      <div>\n",
              "<style scoped>\n",
              "    .dataframe tbody tr th:only-of-type {\n",
              "        vertical-align: middle;\n",
              "    }\n",
              "\n",
              "    .dataframe tbody tr th {\n",
              "        vertical-align: top;\n",
              "    }\n",
              "\n",
              "    .dataframe thead th {\n",
              "        text-align: right;\n",
              "    }\n",
              "</style>\n",
              "<table border=\"1\" class=\"dataframe\">\n",
              "  <thead>\n",
              "    <tr style=\"text-align: right;\">\n",
              "      <th></th>\n",
              "      <th>a</th>\n",
              "      <th>b</th>\n",
              "      <th>c</th>\n",
              "      <th>d</th>\n",
              "      <th>label</th>\n",
              "    </tr>\n",
              "  </thead>\n",
              "  <tbody>\n",
              "    <tr>\n",
              "      <th>0</th>\n",
              "      <td>5.1</td>\n",
              "      <td>3.5</td>\n",
              "      <td>1.4</td>\n",
              "      <td>0.2</td>\n",
              "      <td>Iris-setosa</td>\n",
              "    </tr>\n",
              "    <tr>\n",
              "      <th>1</th>\n",
              "      <td>4.9</td>\n",
              "      <td>3.0</td>\n",
              "      <td>1.4</td>\n",
              "      <td>0.2</td>\n",
              "      <td>Iris-setosa</td>\n",
              "    </tr>\n",
              "    <tr>\n",
              "      <th>2</th>\n",
              "      <td>4.7</td>\n",
              "      <td>3.2</td>\n",
              "      <td>1.3</td>\n",
              "      <td>0.2</td>\n",
              "      <td>Iris-setosa</td>\n",
              "    </tr>\n",
              "    <tr>\n",
              "      <th>3</th>\n",
              "      <td>4.6</td>\n",
              "      <td>3.1</td>\n",
              "      <td>1.5</td>\n",
              "      <td>0.2</td>\n",
              "      <td>Iris-setosa</td>\n",
              "    </tr>\n",
              "    <tr>\n",
              "      <th>4</th>\n",
              "      <td>5.0</td>\n",
              "      <td>3.6</td>\n",
              "      <td>1.4</td>\n",
              "      <td>0.2</td>\n",
              "      <td>Iris-setosa</td>\n",
              "    </tr>\n",
              "    <tr>\n",
              "      <th>...</th>\n",
              "      <td>...</td>\n",
              "      <td>...</td>\n",
              "      <td>...</td>\n",
              "      <td>...</td>\n",
              "      <td>...</td>\n",
              "    </tr>\n",
              "    <tr>\n",
              "      <th>145</th>\n",
              "      <td>6.7</td>\n",
              "      <td>3.0</td>\n",
              "      <td>5.2</td>\n",
              "      <td>2.3</td>\n",
              "      <td>Iris-virginica</td>\n",
              "    </tr>\n",
              "    <tr>\n",
              "      <th>146</th>\n",
              "      <td>6.3</td>\n",
              "      <td>2.5</td>\n",
              "      <td>5.0</td>\n",
              "      <td>1.9</td>\n",
              "      <td>Iris-virginica</td>\n",
              "    </tr>\n",
              "    <tr>\n",
              "      <th>147</th>\n",
              "      <td>6.5</td>\n",
              "      <td>3.0</td>\n",
              "      <td>5.2</td>\n",
              "      <td>2.0</td>\n",
              "      <td>Iris-virginica</td>\n",
              "    </tr>\n",
              "    <tr>\n",
              "      <th>148</th>\n",
              "      <td>6.2</td>\n",
              "      <td>3.4</td>\n",
              "      <td>5.4</td>\n",
              "      <td>2.3</td>\n",
              "      <td>Iris-virginica</td>\n",
              "    </tr>\n",
              "    <tr>\n",
              "      <th>149</th>\n",
              "      <td>5.9</td>\n",
              "      <td>3.0</td>\n",
              "      <td>5.1</td>\n",
              "      <td>1.8</td>\n",
              "      <td>Iris-virginica</td>\n",
              "    </tr>\n",
              "  </tbody>\n",
              "</table>\n",
              "<p>150 rows × 5 columns</p>\n",
              "</div>\n",
              "      <button class=\"colab-df-convert\" onclick=\"convertToInteractive('df-1427c41c-e7ff-4a2d-a941-609d23f96306')\"\n",
              "              title=\"Convert this dataframe to an interactive table.\"\n",
              "              style=\"display:none;\">\n",
              "        \n",
              "  <svg xmlns=\"http://www.w3.org/2000/svg\" height=\"24px\"viewBox=\"0 0 24 24\"\n",
              "       width=\"24px\">\n",
              "    <path d=\"M0 0h24v24H0V0z\" fill=\"none\"/>\n",
              "    <path d=\"M18.56 5.44l.94 2.06.94-2.06 2.06-.94-2.06-.94-.94-2.06-.94 2.06-2.06.94zm-11 1L8.5 8.5l.94-2.06 2.06-.94-2.06-.94L8.5 2.5l-.94 2.06-2.06.94zm10 10l.94 2.06.94-2.06 2.06-.94-2.06-.94-.94-2.06-.94 2.06-2.06.94z\"/><path d=\"M17.41 7.96l-1.37-1.37c-.4-.4-.92-.59-1.43-.59-.52 0-1.04.2-1.43.59L10.3 9.45l-7.72 7.72c-.78.78-.78 2.05 0 2.83L4 21.41c.39.39.9.59 1.41.59.51 0 1.02-.2 1.41-.59l7.78-7.78 2.81-2.81c.8-.78.8-2.07 0-2.86zM5.41 20L4 18.59l7.72-7.72 1.47 1.35L5.41 20z\"/>\n",
              "  </svg>\n",
              "      </button>\n",
              "      \n",
              "  <style>\n",
              "    .colab-df-container {\n",
              "      display:flex;\n",
              "      flex-wrap:wrap;\n",
              "      gap: 12px;\n",
              "    }\n",
              "\n",
              "    .colab-df-convert {\n",
              "      background-color: #E8F0FE;\n",
              "      border: none;\n",
              "      border-radius: 50%;\n",
              "      cursor: pointer;\n",
              "      display: none;\n",
              "      fill: #1967D2;\n",
              "      height: 32px;\n",
              "      padding: 0 0 0 0;\n",
              "      width: 32px;\n",
              "    }\n",
              "\n",
              "    .colab-df-convert:hover {\n",
              "      background-color: #E2EBFA;\n",
              "      box-shadow: 0px 1px 2px rgba(60, 64, 67, 0.3), 0px 1px 3px 1px rgba(60, 64, 67, 0.15);\n",
              "      fill: #174EA6;\n",
              "    }\n",
              "\n",
              "    [theme=dark] .colab-df-convert {\n",
              "      background-color: #3B4455;\n",
              "      fill: #D2E3FC;\n",
              "    }\n",
              "\n",
              "    [theme=dark] .colab-df-convert:hover {\n",
              "      background-color: #434B5C;\n",
              "      box-shadow: 0px 1px 3px 1px rgba(0, 0, 0, 0.15);\n",
              "      filter: drop-shadow(0px 1px 2px rgba(0, 0, 0, 0.3));\n",
              "      fill: #FFFFFF;\n",
              "    }\n",
              "  </style>\n",
              "\n",
              "      <script>\n",
              "        const buttonEl =\n",
              "          document.querySelector('#df-1427c41c-e7ff-4a2d-a941-609d23f96306 button.colab-df-convert');\n",
              "        buttonEl.style.display =\n",
              "          google.colab.kernel.accessAllowed ? 'block' : 'none';\n",
              "\n",
              "        async function convertToInteractive(key) {\n",
              "          const element = document.querySelector('#df-1427c41c-e7ff-4a2d-a941-609d23f96306');\n",
              "          const dataTable =\n",
              "            await google.colab.kernel.invokeFunction('convertToInteractive',\n",
              "                                                     [key], {});\n",
              "          if (!dataTable) return;\n",
              "\n",
              "          const docLinkHtml = 'Like what you see? Visit the ' +\n",
              "            '<a target=\"_blank\" href=https://colab.research.google.com/notebooks/data_table.ipynb>data table notebook</a>'\n",
              "            + ' to learn more about interactive tables.';\n",
              "          element.innerHTML = '';\n",
              "          dataTable['output_type'] = 'display_data';\n",
              "          await google.colab.output.renderOutput(dataTable, element);\n",
              "          const docLink = document.createElement('div');\n",
              "          docLink.innerHTML = docLinkHtml;\n",
              "          element.appendChild(docLink);\n",
              "        }\n",
              "      </script>\n",
              "    </div>\n",
              "  </div>\n",
              "  "
            ]
          },
          "metadata": {},
          "execution_count": 12
        }
      ],
      "source": [
        "import pandas as pd\n",
        "\n",
        "data = pd.read_csv(\"iris.data\", names = ['a', 'b', 'c', 'd', 'label'])\n",
        "data"
      ]
    },
    {
      "cell_type": "code",
      "source": [
        "import torch\n",
        "\n",
        "data_x = torch.from_numpy(data.iloc[:, :4].values)\n",
        "data_y = data.iloc[:, 4]\n",
        "\n",
        "X = data_x - data_x.mean(dim=0)\n",
        "X"
      ],
      "metadata": {
        "colab": {
          "base_uri": "https://localhost:8080/"
        },
        "id": "cgfAPfxsvgqB",
        "outputId": "31bd8e49-118e-488e-c4f6-ef3b131d7343"
      },
      "execution_count": 3,
      "outputs": [
        {
          "output_type": "execute_result",
          "data": {
            "text/plain": [
              "tensor([[-7.4333e-01,  4.4600e-01, -2.3587e+00, -9.9867e-01],\n",
              "        [-9.4333e-01, -5.4000e-02, -2.3587e+00, -9.9867e-01],\n",
              "        [-1.1433e+00,  1.4600e-01, -2.4587e+00, -9.9867e-01],\n",
              "        [-1.2433e+00,  4.6000e-02, -2.2587e+00, -9.9867e-01],\n",
              "        [-8.4333e-01,  5.4600e-01, -2.3587e+00, -9.9867e-01],\n",
              "        [-4.4333e-01,  8.4600e-01, -2.0587e+00, -7.9867e-01],\n",
              "        [-1.2433e+00,  3.4600e-01, -2.3587e+00, -8.9867e-01],\n",
              "        [-8.4333e-01,  3.4600e-01, -2.2587e+00, -9.9867e-01],\n",
              "        [-1.4433e+00, -1.5400e-01, -2.3587e+00, -9.9867e-01],\n",
              "        [-9.4333e-01,  4.6000e-02, -2.2587e+00, -1.0987e+00],\n",
              "        [-4.4333e-01,  6.4600e-01, -2.2587e+00, -9.9867e-01],\n",
              "        [-1.0433e+00,  3.4600e-01, -2.1587e+00, -9.9867e-01],\n",
              "        [-1.0433e+00, -5.4000e-02, -2.3587e+00, -1.0987e+00],\n",
              "        [-1.5433e+00, -5.4000e-02, -2.6587e+00, -1.0987e+00],\n",
              "        [-4.3333e-02,  9.4600e-01, -2.5587e+00, -9.9867e-01],\n",
              "        [-1.4333e-01,  1.3460e+00, -2.2587e+00, -7.9867e-01],\n",
              "        [-4.4333e-01,  8.4600e-01, -2.4587e+00, -7.9867e-01],\n",
              "        [-7.4333e-01,  4.4600e-01, -2.3587e+00, -8.9867e-01],\n",
              "        [-1.4333e-01,  7.4600e-01, -2.0587e+00, -8.9867e-01],\n",
              "        [-7.4333e-01,  7.4600e-01, -2.2587e+00, -8.9867e-01],\n",
              "        [-4.4333e-01,  3.4600e-01, -2.0587e+00, -9.9867e-01],\n",
              "        [-7.4333e-01,  6.4600e-01, -2.2587e+00, -7.9867e-01],\n",
              "        [-1.2433e+00,  5.4600e-01, -2.7587e+00, -9.9867e-01],\n",
              "        [-7.4333e-01,  2.4600e-01, -2.0587e+00, -6.9867e-01],\n",
              "        [-1.0433e+00,  3.4600e-01, -1.8587e+00, -9.9867e-01],\n",
              "        [-8.4333e-01, -5.4000e-02, -2.1587e+00, -9.9867e-01],\n",
              "        [-8.4333e-01,  3.4600e-01, -2.1587e+00, -7.9867e-01],\n",
              "        [-6.4333e-01,  4.4600e-01, -2.2587e+00, -9.9867e-01],\n",
              "        [-6.4333e-01,  3.4600e-01, -2.3587e+00, -9.9867e-01],\n",
              "        [-1.1433e+00,  1.4600e-01, -2.1587e+00, -9.9867e-01],\n",
              "        [-1.0433e+00,  4.6000e-02, -2.1587e+00, -9.9867e-01],\n",
              "        [-4.4333e-01,  3.4600e-01, -2.2587e+00, -7.9867e-01],\n",
              "        [-6.4333e-01,  1.0460e+00, -2.2587e+00, -1.0987e+00],\n",
              "        [-3.4333e-01,  1.1460e+00, -2.3587e+00, -9.9867e-01],\n",
              "        [-9.4333e-01,  4.6000e-02, -2.2587e+00, -1.0987e+00],\n",
              "        [-8.4333e-01,  1.4600e-01, -2.5587e+00, -9.9867e-01],\n",
              "        [-3.4333e-01,  4.4600e-01, -2.4587e+00, -9.9867e-01],\n",
              "        [-9.4333e-01,  4.6000e-02, -2.2587e+00, -1.0987e+00],\n",
              "        [-1.4433e+00, -5.4000e-02, -2.4587e+00, -9.9867e-01],\n",
              "        [-7.4333e-01,  3.4600e-01, -2.2587e+00, -9.9867e-01],\n",
              "        [-8.4333e-01,  4.4600e-01, -2.4587e+00, -8.9867e-01],\n",
              "        [-1.3433e+00, -7.5400e-01, -2.4587e+00, -8.9867e-01],\n",
              "        [-1.4433e+00,  1.4600e-01, -2.4587e+00, -9.9867e-01],\n",
              "        [-8.4333e-01,  4.4600e-01, -2.1587e+00, -5.9867e-01],\n",
              "        [-7.4333e-01,  7.4600e-01, -1.8587e+00, -7.9867e-01],\n",
              "        [-1.0433e+00, -5.4000e-02, -2.3587e+00, -8.9867e-01],\n",
              "        [-7.4333e-01,  7.4600e-01, -2.1587e+00, -9.9867e-01],\n",
              "        [-1.2433e+00,  1.4600e-01, -2.3587e+00, -9.9867e-01],\n",
              "        [-5.4333e-01,  6.4600e-01, -2.2587e+00, -9.9867e-01],\n",
              "        [-8.4333e-01,  2.4600e-01, -2.3587e+00, -9.9867e-01],\n",
              "        [ 1.1567e+00,  1.4600e-01,  9.4133e-01,  2.0133e-01],\n",
              "        [ 5.5667e-01,  1.4600e-01,  7.4133e-01,  3.0133e-01],\n",
              "        [ 1.0567e+00,  4.6000e-02,  1.1413e+00,  3.0133e-01],\n",
              "        [-3.4333e-01, -7.5400e-01,  2.4133e-01,  1.0133e-01],\n",
              "        [ 6.5667e-01, -2.5400e-01,  8.4133e-01,  3.0133e-01],\n",
              "        [-1.4333e-01, -2.5400e-01,  7.4133e-01,  1.0133e-01],\n",
              "        [ 4.5667e-01,  2.4600e-01,  9.4133e-01,  4.0133e-01],\n",
              "        [-9.4333e-01, -6.5400e-01, -4.5867e-01, -1.9867e-01],\n",
              "        [ 7.5667e-01, -1.5400e-01,  8.4133e-01,  1.0133e-01],\n",
              "        [-6.4333e-01, -3.5400e-01,  1.4133e-01,  2.0133e-01],\n",
              "        [-8.4333e-01, -1.0540e+00, -2.5867e-01, -1.9867e-01],\n",
              "        [ 5.6667e-02, -5.4000e-02,  4.4133e-01,  3.0133e-01],\n",
              "        [ 1.5667e-01, -8.5400e-01,  2.4133e-01, -1.9867e-01],\n",
              "        [ 2.5667e-01, -1.5400e-01,  9.4133e-01,  2.0133e-01],\n",
              "        [-2.4333e-01, -1.5400e-01, -1.5867e-01,  1.0133e-01],\n",
              "        [ 8.5667e-01,  4.6000e-02,  6.4133e-01,  2.0133e-01],\n",
              "        [-2.4333e-01, -5.4000e-02,  7.4133e-01,  3.0133e-01],\n",
              "        [-4.3333e-02, -3.5400e-01,  3.4133e-01, -1.9867e-01],\n",
              "        [ 3.5667e-01, -8.5400e-01,  7.4133e-01,  3.0133e-01],\n",
              "        [-2.4333e-01, -5.5400e-01,  1.4133e-01, -9.8667e-02],\n",
              "        [ 5.6667e-02,  1.4600e-01,  1.0413e+00,  6.0133e-01],\n",
              "        [ 2.5667e-01, -2.5400e-01,  2.4133e-01,  1.0133e-01],\n",
              "        [ 4.5667e-01, -5.5400e-01,  1.1413e+00,  3.0133e-01],\n",
              "        [ 2.5667e-01, -2.5400e-01,  9.4133e-01,  1.3333e-03],\n",
              "        [ 5.5667e-01, -1.5400e-01,  5.4133e-01,  1.0133e-01],\n",
              "        [ 7.5667e-01, -5.4000e-02,  6.4133e-01,  2.0133e-01],\n",
              "        [ 9.5667e-01, -2.5400e-01,  1.0413e+00,  2.0133e-01],\n",
              "        [ 8.5667e-01, -5.4000e-02,  1.2413e+00,  5.0133e-01],\n",
              "        [ 1.5667e-01, -1.5400e-01,  7.4133e-01,  3.0133e-01],\n",
              "        [-1.4333e-01, -4.5400e-01, -2.5867e-01, -1.9867e-01],\n",
              "        [-3.4333e-01, -6.5400e-01,  4.1333e-02, -9.8667e-02],\n",
              "        [-3.4333e-01, -6.5400e-01, -5.8667e-02, -1.9867e-01],\n",
              "        [-4.3333e-02, -3.5400e-01,  1.4133e-01,  1.3333e-03],\n",
              "        [ 1.5667e-01, -3.5400e-01,  1.3413e+00,  4.0133e-01],\n",
              "        [-4.4333e-01, -5.4000e-02,  7.4133e-01,  3.0133e-01],\n",
              "        [ 1.5667e-01,  3.4600e-01,  7.4133e-01,  4.0133e-01],\n",
              "        [ 8.5667e-01,  4.6000e-02,  9.4133e-01,  3.0133e-01],\n",
              "        [ 4.5667e-01, -7.5400e-01,  6.4133e-01,  1.0133e-01],\n",
              "        [-2.4333e-01, -5.4000e-02,  3.4133e-01,  1.0133e-01],\n",
              "        [-3.4333e-01, -5.5400e-01,  2.4133e-01,  1.0133e-01],\n",
              "        [-3.4333e-01, -4.5400e-01,  6.4133e-01,  1.3333e-03],\n",
              "        [ 2.5667e-01, -5.4000e-02,  8.4133e-01,  2.0133e-01],\n",
              "        [-4.3333e-02, -4.5400e-01,  2.4133e-01,  1.3333e-03],\n",
              "        [-8.4333e-01, -7.5400e-01, -4.5867e-01, -1.9867e-01],\n",
              "        [-2.4333e-01, -3.5400e-01,  4.4133e-01,  1.0133e-01],\n",
              "        [-1.4333e-01, -5.4000e-02,  4.4133e-01,  1.3333e-03],\n",
              "        [-1.4333e-01, -1.5400e-01,  4.4133e-01,  1.0133e-01],\n",
              "        [ 3.5667e-01, -1.5400e-01,  5.4133e-01,  1.0133e-01],\n",
              "        [-7.4333e-01, -5.5400e-01, -7.5867e-01, -9.8667e-02],\n",
              "        [-1.4333e-01, -2.5400e-01,  3.4133e-01,  1.0133e-01],\n",
              "        [ 4.5667e-01,  2.4600e-01,  2.2413e+00,  1.3013e+00],\n",
              "        [-4.3333e-02, -3.5400e-01,  1.3413e+00,  7.0133e-01],\n",
              "        [ 1.2567e+00, -5.4000e-02,  2.1413e+00,  9.0133e-01],\n",
              "        [ 4.5667e-01, -1.5400e-01,  1.8413e+00,  6.0133e-01],\n",
              "        [ 6.5667e-01, -5.4000e-02,  2.0413e+00,  1.0013e+00],\n",
              "        [ 1.7567e+00, -5.4000e-02,  2.8413e+00,  9.0133e-01],\n",
              "        [-9.4333e-01, -5.5400e-01,  7.4133e-01,  5.0133e-01],\n",
              "        [ 1.4567e+00, -1.5400e-01,  2.5413e+00,  6.0133e-01],\n",
              "        [ 8.5667e-01, -5.5400e-01,  2.0413e+00,  6.0133e-01],\n",
              "        [ 1.3567e+00,  5.4600e-01,  2.3413e+00,  1.3013e+00],\n",
              "        [ 6.5667e-01,  1.4600e-01,  1.3413e+00,  8.0133e-01],\n",
              "        [ 5.5667e-01, -3.5400e-01,  1.5413e+00,  7.0133e-01],\n",
              "        [ 9.5667e-01, -5.4000e-02,  1.7413e+00,  9.0133e-01],\n",
              "        [-1.4333e-01, -5.5400e-01,  1.2413e+00,  8.0133e-01],\n",
              "        [-4.3333e-02, -2.5400e-01,  1.3413e+00,  1.2013e+00],\n",
              "        [ 5.5667e-01,  1.4600e-01,  1.5413e+00,  1.1013e+00],\n",
              "        [ 6.5667e-01, -5.4000e-02,  1.7413e+00,  6.0133e-01],\n",
              "        [ 1.8567e+00,  7.4600e-01,  2.9413e+00,  1.0013e+00],\n",
              "        [ 1.8567e+00, -4.5400e-01,  3.1413e+00,  1.1013e+00],\n",
              "        [ 1.5667e-01, -8.5400e-01,  1.2413e+00,  3.0133e-01],\n",
              "        [ 1.0567e+00,  1.4600e-01,  1.9413e+00,  1.1013e+00],\n",
              "        [-2.4333e-01, -2.5400e-01,  1.1413e+00,  8.0133e-01],\n",
              "        [ 1.8567e+00, -2.5400e-01,  2.9413e+00,  8.0133e-01],\n",
              "        [ 4.5667e-01, -3.5400e-01,  1.1413e+00,  6.0133e-01],\n",
              "        [ 8.5667e-01,  2.4600e-01,  1.9413e+00,  9.0133e-01],\n",
              "        [ 1.3567e+00,  1.4600e-01,  2.2413e+00,  6.0133e-01],\n",
              "        [ 3.5667e-01, -2.5400e-01,  1.0413e+00,  6.0133e-01],\n",
              "        [ 2.5667e-01, -5.4000e-02,  1.1413e+00,  6.0133e-01],\n",
              "        [ 5.5667e-01, -2.5400e-01,  1.8413e+00,  9.0133e-01],\n",
              "        [ 1.3567e+00, -5.4000e-02,  2.0413e+00,  4.0133e-01],\n",
              "        [ 1.5567e+00, -2.5400e-01,  2.3413e+00,  7.0133e-01],\n",
              "        [ 2.0567e+00,  7.4600e-01,  2.6413e+00,  8.0133e-01],\n",
              "        [ 5.5667e-01, -2.5400e-01,  1.8413e+00,  1.0013e+00],\n",
              "        [ 4.5667e-01, -2.5400e-01,  1.3413e+00,  3.0133e-01],\n",
              "        [ 2.5667e-01, -4.5400e-01,  1.8413e+00,  2.0133e-01],\n",
              "        [ 1.8567e+00, -5.4000e-02,  2.3413e+00,  1.1013e+00],\n",
              "        [ 4.5667e-01,  3.4600e-01,  1.8413e+00,  1.2013e+00],\n",
              "        [ 5.5667e-01,  4.6000e-02,  1.7413e+00,  6.0133e-01],\n",
              "        [ 1.5667e-01, -5.4000e-02,  1.0413e+00,  6.0133e-01],\n",
              "        [ 1.0567e+00,  4.6000e-02,  1.6413e+00,  9.0133e-01],\n",
              "        [ 8.5667e-01,  4.6000e-02,  1.8413e+00,  1.2013e+00],\n",
              "        [ 1.0567e+00,  4.6000e-02,  1.3413e+00,  1.1013e+00],\n",
              "        [-4.3333e-02, -3.5400e-01,  1.3413e+00,  7.0133e-01],\n",
              "        [ 9.5667e-01,  1.4600e-01,  2.1413e+00,  1.1013e+00],\n",
              "        [ 8.5667e-01,  2.4600e-01,  1.9413e+00,  1.3013e+00],\n",
              "        [ 8.5667e-01, -5.4000e-02,  1.4413e+00,  1.1013e+00],\n",
              "        [ 4.5667e-01, -5.5400e-01,  1.2413e+00,  7.0133e-01],\n",
              "        [ 6.5667e-01, -5.4000e-02,  1.4413e+00,  8.0133e-01],\n",
              "        [ 3.5667e-01,  3.4600e-01,  1.6413e+00,  1.1013e+00],\n",
              "        [ 5.6667e-02, -5.4000e-02,  1.3413e+00,  6.0133e-01]],\n",
              "       dtype=torch.float64)"
            ]
          },
          "metadata": {},
          "execution_count": 3
        }
      ]
    },
    {
      "cell_type": "code",
      "source": [
        "def findPC(X):\n",
        "\n",
        "  w = torch.randn(X.shape[1])\n",
        "  w_size = (w * w).sum() ** 0.5\n",
        "  w /= w_size\n",
        "\n",
        "  lr = 0.1\n",
        "\n",
        "  for epoch in range(100):\n",
        "    w.requires_grad_(True)\n",
        "    variance = -((X * w).sum(dim=1) ** 2).mean()\n",
        "\n",
        "    variance.backward()\n",
        "\n",
        "    with torch.no_grad():\n",
        "      w = w - lr * w.grad\n",
        "      w /= (w * w).sum() ** 0.5\n",
        "\n",
        "  w.requires_grad_(False)\n",
        "  \n",
        "  return w, -variance.item()\n",
        "\n",
        "w, v = findPC(X)\n",
        "print(w, v)"
      ],
      "metadata": {
        "colab": {
          "base_uri": "https://localhost:8080/"
        },
        "id": "zDS1J0-UvtYS",
        "outputId": "9bd9020e-4a66-4f52-8d56-e065479e2c43"
      },
      "execution_count": 13,
      "outputs": [
        {
          "output_type": "stream",
          "name": "stdout",
          "text": [
            "tensor([ 0.3616, -0.0823,  0.8566,  0.3588]) 4.196675777435303\n"
          ]
        }
      ]
    },
    {
      "cell_type": "code",
      "source": [
        "def PCA(k, X):\n",
        "  vars = []\n",
        "  pcs = []\n",
        "\n",
        "  Z = X - X.mean(dim=0)\n",
        "\n",
        "  for i in range(k):\n",
        "    w, v = findPC(Z)\n",
        "\n",
        "    pcs.append(w)\n",
        "    vars.append(v)\n",
        "\n",
        "    Z = Z - w * (Z * w).sum(dim=1).unsqueeze(1)\n",
        "             \n",
        "  return pcs, vars\n",
        "\n",
        "pcs, vars = PCA(4, X)"
      ],
      "metadata": {
        "id": "EiNNsjhsvzIi"
      },
      "execution_count": 5,
      "outputs": []
    },
    {
      "cell_type": "code",
      "source": [
        "import matplotlib.pyplot as plt\n",
        "\n",
        "plt.plot(vars, \"-o\")\n",
        "plt.show()"
      ],
      "metadata": {
        "colab": {
          "base_uri": "https://localhost:8080/",
          "height": 265
        },
        "id": "-jXVi7tcv1oJ",
        "outputId": "4ad5881b-8331-4d26-9f14-d05bfa25d50f"
      },
      "execution_count": 9,
      "outputs": [
        {
          "output_type": "display_data",
          "data": {
            "text/plain": [
              "<Figure size 432x288 with 1 Axes>"
            ],
            "image/png": "[encoded data removed]"
          },
          "metadata": {
            "needs_background": "light"
          }
        }
      ]
    },
    {
      "cell_type": "code",
      "source": [
        "X = torch.tensor(X, dtype=torch.float)\n",
        "XX = X @ torch.stack(pcs[:2]).T"
      ],
      "metadata": {
        "colab": {
          "base_uri": "https://localhost:8080/"
        },
        "id": "IaHfO5_xw0SP",
        "outputId": "c6c8a029-6024-4979-a5c5-3e18dd135dcc"
      },
      "execution_count": 14,
      "outputs": [
        {
          "output_type": "stream",
          "name": "stderr",
          "text": [
            "<ipython-input-14-2dafaf95f938>:1: UserWarning: To copy construct from a tensor, it is recommended to use sourceTensor.clone().detach() or sourceTensor.clone().detach().requires_grad_(True), rather than torch.tensor(sourceTensor).\n",
            "  X = torch.tensor(X, dtype=torch.float)\n"
          ]
        }
      ]
    },
    {
      "cell_type": "code",
      "source": [
        "plt.scatter(XX[:, 0], XX[:, 1])\n",
        "plt.show()"
      ],
      "metadata": {
        "colab": {
          "base_uri": "https://localhost:8080/",
          "height": 269
        },
        "id": "2vkPLSZLwMM1",
        "outputId": "df2c50bf-32a8-4a82-8450-8584ecc1728f"
      },
      "execution_count": 15,
      "outputs": [
        {
          "output_type": "display_data",
          "data": {
            "text/plain": [
              "<Figure size 432x288 with 1 Axes>"
            ],
            "image/png": "[encoded data removed]"
          },
          "metadata": {
            "needs_background": "light"
          }
        }
      ]
    },
    {
      "cell_type": "code",
      "source": [
        "a = torch.tensor([[1,2,3],[4,5,6],[7,8,9]])\n",
        "b = torch.tensor([6,7,8])\n",
        "(a * b).sum(dim=1)"
      ],
      "metadata": {
        "colab": {
          "base_uri": "https://localhost:8080/"
        },
        "id": "nErJxaipv-p4",
        "outputId": "4e7ed12d-7ff3-4aba-bf20-a776b472aef4"
      },
      "execution_count": 16,
      "outputs": [
        {
          "output_type": "execute_result",
          "data": {
            "text/plain": [
              "tensor([ 44, 107, 170])"
            ]
          },
          "metadata": {},
          "execution_count": 16
        }
      ]
    },
    {
      "cell_type": "code",
      "source": [
        "import matplotlib.pyplot as plt\n",
        "data_xx = data_x - data_x.mean(dim=0)\n",
        "\n",
        "plt.scatter(data_xx[:, 0], data_xx[:, 1])\n",
        "plt.show()"
      ],
      "metadata": {
        "colab": {
          "base_uri": "https://localhost:8080/",
          "height": 265
        },
        "id": "VA8oYygDwAr2",
        "outputId": "0df59af7-1640-4d3f-b13b-3dcee3e61713"
      },
      "execution_count": 17,
      "outputs": [
        {
          "output_type": "display_data",
          "data": {
            "text/plain": [
              "<Figure size 432x288 with 1 Axes>"
            ],
            "image/png": "[encoded data removed]"
          },
          "metadata": {
            "needs_background": "light"
          }
        }
      ]
    }
  ]
}