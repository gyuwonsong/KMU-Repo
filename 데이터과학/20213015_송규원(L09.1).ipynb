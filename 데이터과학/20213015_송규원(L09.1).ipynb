{
  "nbformat": 4,
  "nbformat_minor": 0,
  "metadata": {
    "colab": {
      "provenance": []
    },
    "kernelspec": {
      "name": "python3",
      "display_name": "Python 3"
    },
    "language_info": {
      "name": "python"
    }
  },
  "cells": [
    {
      "cell_type": "code",
      "execution_count": 3,
      "metadata": {
        "colab": {
          "base_uri": "https://localhost:8080/"
        },
        "id": "gcZOlJc4SP9k",
        "outputId": "9b3bf730-b788-4cb1-d905-5120fd568c7e"
      },
      "outputs": [
        {
          "output_type": "stream",
          "name": "stdout",
          "text": [
            "Drive already mounted at /content/gdrive; to attempt to forcibly remount, call drive.mount(\"/content/gdrive\", force_remount=True).\n"
          ]
        }
      ],
      "source": [
        "from google.colab import drive\n",
        "drive.mount(\"/content/gdrive\")"
      ]
    },
    {
      "cell_type": "code",
      "source": [
        "!head gdrive/MyDrive/ua.test"
      ],
      "metadata": {
        "colab": {
          "base_uri": "https://localhost:8080/"
        },
        "id": "cz-t4ypPSdOq",
        "outputId": "60421453-1db0-4a25-e9da-057c72ae5b08"
      },
      "execution_count": 4,
      "outputs": [
        {
          "output_type": "stream",
          "name": "stdout",
          "text": [
            "1\t20\t4\t887431883\n",
            "1\t33\t4\t878542699\n",
            "1\t61\t4\t878542420\n",
            "1\t117\t3\t874965739\n",
            "1\t155\t2\t878542201\n",
            "1\t160\t4\t875072547\n",
            "1\t171\t5\t889751711\n",
            "1\t189\t3\t888732928\n",
            "1\t202\t5\t875072442\n",
            "1\t265\t4\t878542441\n"
          ]
        }
      ]
    },
    {
      "cell_type": "code",
      "source": [
        "import torch\n",
        "import pandas as pd\n",
        "import matplotlib.pyplot as plt\n",
        "import torch.nn.functional as F\n",
        "\n",
        "train = pd.read_csv(\"/content/gdrive/MyDrive/ua.base\", sep =\"\\t\", names = ['user', 'movie','rating', 'timestamp'])\n",
        "test = pd.read_csv(\"/content/gdrive/MyDrive/ua.test\", sep = \"\\t\", names = ['user', 'movie','rating', 'timestamp'])\n",
        "\n",
        "items = torch.tensor(train['movie'], dtype = torch.long)\n",
        "users = torch.tensor(train['user'], dtype = torch.long)\n",
        "ratings = torch.tensor(train['rating'], dtype = torch.float)\n",
        "\n",
        "items_test = torch.tensor(test['movie'], dtype = torch.long )\n",
        "users_test = torch.tensor(test['user'], dtype = torch.long)\n",
        "ratings_test = torch.tensor(test['rating'], dtype = torch.float)\n",
        "\n",
        "items_test"
      ],
      "metadata": {
        "colab": {
          "base_uri": "https://localhost:8080/"
        },
        "id": "R4q_nky9SoxI",
        "outputId": "3456b325-e338-4a6c-d874-267f29701f7f"
      },
      "execution_count": 6,
      "outputs": [
        {
          "output_type": "execute_result",
          "data": {
            "text/plain": [
              "tensor([  20,   33,   61,  ...,  570,  808, 1067])"
            ]
          },
          "metadata": {},
          "execution_count": 6
        }
      ]
    },
    {
      "cell_type": "code",
      "source": [
        "rank = 10\n",
        "\n",
        "numUsers = users.max() + 1\n",
        "numItems = items.max() + 1\n",
        "\n",
        "P = torch.randn(numItems, rank, requires_grad=True)\n",
        "Q = torch.randn(numUsers, rank, requires_grad=True)  \n",
        "\n",
        "P.shape, Q.shape\n",
        "\n",
        "print(P.shape)\n",
        "print(Q.shape)"
      ],
      "metadata": {
        "colab": {
          "base_uri": "https://localhost:8080/"
        },
        "id": "n-Spn4ssUhmK",
        "outputId": "83e84fd8-80ef-48be-93a1-6fd097557238"
      },
      "execution_count": 7,
      "outputs": [
        {
          "output_type": "stream",
          "name": "stdout",
          "text": [
            "torch.Size([1683, 10])\n",
            "torch.Size([944, 10])\n"
          ]
        }
      ]
    },
    {
      "cell_type": "code",
      "source": [
        "# 10번 user가 20번 영화에 몇 점을 주었을지 예측\n",
        "(P[20]* Q[20]).sum()"
      ],
      "metadata": {
        "colab": {
          "base_uri": "https://localhost:8080/"
        },
        "id": "bQkEAgc6UtuI",
        "outputId": "8f42f449-4a5b-46da-d8bd-caa09a28bf05"
      },
      "execution_count": 8,
      "outputs": [
        {
          "output_type": "execute_result",
          "data": {
            "text/plain": [
              "tensor(1.8562, grad_fn=<SumBackward0>)"
            ]
          },
          "metadata": {},
          "execution_count": 8
        }
      ]
    },
    {
      "cell_type": "code",
      "source": [
        "P = torch.randn(numItems, rank, requires_grad=True)\n",
        "Q = torch.randn(numUsers, rank, requires_grad=True)\n",
        "\n",
        "optim = torch.optim.Adam([P,Q], lr = 0.1)\n",
        "\n",
        "X = []\n",
        "Y = []\n",
        "Y_test = []\n",
        "\n",
        "for epoch in range(1001):\n",
        "  h = (P[items] * Q[users]).sum(dim = 1)\n",
        "  cost = F.mse_loss(h, ratings)\n",
        "\n",
        "  optim.zero_grad()\n",
        "  cost.backward()\n",
        "  optim.step()\n",
        "\n",
        "  \n",
        "  with torch.no_grad():\n",
        "\n",
        "    X.append(epoch)\n",
        "    Y.append(cost.item())\n",
        "\n",
        "    h_test = (P[items_test] * Q[users_test]).sum(dim=1)\n",
        "    cost_test = F.mse_loss(h_test, ratings_test)\n",
        "\n",
        "    Y_test.append(cost_test.item())\n",
        "\n",
        "    if epoch % 100 == 0:\n",
        "      print(f\"epoch: {epoch}, cost: {cost.item()}\")"
      ],
      "metadata": {
        "colab": {
          "base_uri": "https://localhost:8080/"
        },
        "id": "YSoRXaZGU1uY",
        "outputId": "4685c534-8099-47af-a720-c8b6adcdf379"
      },
      "execution_count": 9,
      "outputs": [
        {
          "output_type": "stream",
          "name": "stdout",
          "text": [
            "epoch: 0, cost: 23.419628143310547\n",
            "epoch: 100, cost: 0.5653654336929321\n",
            "epoch: 200, cost: 0.49160489439964294\n",
            "epoch: 300, cost: 0.46870267391204834\n",
            "epoch: 400, cost: 0.4584026336669922\n",
            "epoch: 500, cost: 0.4527489244937897\n",
            "epoch: 600, cost: 0.44914939999580383\n",
            "epoch: 700, cost: 0.44668859243392944\n",
            "epoch: 800, cost: 0.4448491930961609\n",
            "epoch: 900, cost: 0.44333815574645996\n",
            "epoch: 1000, cost: 0.4419962763786316\n"
          ]
        }
      ]
    },
    {
      "cell_type": "code",
      "source": [
        "plt.ylabel(\"MSE\")\n",
        "plt.xlabel(\"Epoch\")\n",
        "\n",
        "plt.plot(X, Y, label=\"Train MSE\")\n",
        "plt.plot(X,Y_test, label=\"Test MSE\")\n",
        "\n",
        "plt.show()"
      ],
      "metadata": {
        "colab": {
          "base_uri": "https://localhost:8080/",
          "height": 279
        },
        "id": "71RAEU4iU5Zf",
        "outputId": "49c9876c-4f2b-4f91-d7cd-3b47b3fa2307"
      },
      "execution_count": 10,
      "outputs": [
        {
          "output_type": "display_data",
          "data": {
            "text/plain": [
              "<Figure size 432x288 with 1 Axes>"
            ],
            "image/png": "[encoded data removed]"
          },
          "metadata": {
            "needs_background": "light"
          }
        }
      ]
    },
    {
      "cell_type": "code",
      "source": [
        "P = torch.randn(numItems, rank, requires_grad=True)\n",
        "Q = torch.randn(numUsers, rank, requires_grad=True)\n",
        "\n",
        "lambda1 = 1\n",
        "lambda2 = 1\n",
        "\n",
        "\n",
        "optim = torch.optim.Adam([P,Q], lr = 0.1)\n",
        "\n",
        "X = []\n",
        "Y = []\n",
        "Y_test = []\n",
        "\n",
        "for epoch in range(1001):\n",
        "  h = (P[items] * Q[users]).sum(dim = 1)\n",
        "  cost = F.mse_loss(h, ratings)\n",
        "\n",
        "  loss = cost + lambda1 * (P*P).mean() + lambda2 * (Q*Q).mean()\n",
        "\n",
        "  optim.zero_grad()\n",
        "  loss.backward()\n",
        "  optim.step()\n",
        "\n",
        "  with torch.no_grad():\n",
        "\n",
        "    X.append(epoch)\n",
        "    Y.append(cost.item())\n",
        "\n",
        "    h_test = (P[items_test] * Q[users_test]).sum(dim=1)\n",
        "    cost_test = F.mse_loss(h_test, ratings_test)\n",
        "\n",
        "    Y_test.append(cost_test.item())\n",
        "\n",
        "    if epoch % 100 == 0:\n",
        "      print(f\"epoch: {epoch}, cost: {cost.item()}\")\n",
        "\n",
        "plt.ylabel(\"MSE\")\n",
        "plt.xlabel(\"Epoch\")\n",
        "\n",
        "plt.plot(X, Y, label=\"Training MSE\")\n",
        "plt.plot(X, Y_test, label=\"Test MSE\")\n",
        "\n",
        "plt.legend()\n",
        "plt.show()"
      ],
      "metadata": {
        "colab": {
          "base_uri": "https://localhost:8080/",
          "height": 479
        },
        "id": "iQgY8xVRU-Ew",
        "outputId": "6ed066c8-4e2c-4d9b-f1ec-6f2b07b93e59"
      },
      "execution_count": 11,
      "outputs": [
        {
          "output_type": "stream",
          "name": "stdout",
          "text": [
            "epoch: 0, cost: 23.75006675720215\n",
            "epoch: 100, cost: 0.6745423078536987\n",
            "epoch: 200, cost: 0.6128673553466797\n",
            "epoch: 300, cost: 0.5964124202728271\n",
            "epoch: 400, cost: 0.5907335877418518\n",
            "epoch: 500, cost: 0.5890467166900635\n",
            "epoch: 600, cost: 0.5884416699409485\n",
            "epoch: 700, cost: 0.5880651473999023\n",
            "epoch: 800, cost: 0.5877575874328613\n",
            "epoch: 900, cost: 0.5875309109687805\n",
            "epoch: 1000, cost: 0.5873871445655823\n"
          ]
        },
        {
          "output_type": "display_data",
          "data": {
            "text/plain": [
              "<Figure size 432x288 with 1 Axes>"
            ],
            "image/png": "[encoded data removed]"
          },
          "metadata": {
            "needs_background": "light"
          }
        }
      ]
    },
    {
      "cell_type": "code",
      "source": [
        "P = torch.randn(numItems, rank, requires_grad=True)\n",
        "Q = torch.randn(numUsers, rank, requires_grad=True)\n",
        "\n",
        "bias_item = torch.randn(numItems, requires_grad = True)\n",
        "bias_user = torch.randn(numUsers, requires_grad = True)\n",
        "mean = ratings.mean()\n",
        "\n",
        "lambda3 = 1\n",
        "lambda4 = 1\n",
        "\n",
        "optim = torch.optim.Adam([P, Q, bias_item, bias_user], lr= 0.1)\n",
        "\n",
        "X = []\n",
        "Y = []\n",
        "Y_test = []\n",
        "\n",
        "for epoch in range(1001):\n",
        "\n",
        "  h = (P[items]*Q[users]).sum(dim=1) + mean + bias_item[items] + bias_user[users]\n",
        "  cost = F.mse_loss(h, ratings)\n",
        "  loss = cost + lambda1 * (P*P).mean() + lambda2 * (Q*Q).mean() + \\\n",
        "         lambda3 * (bias_user ** 2).mean() + lambda4 * (bias_item ** 2).mean()\n",
        "\n",
        "\n",
        "  optim.zero_grad()\n",
        "  loss.backward()\n",
        "  optim.step()\n",
        "\n",
        "  with torch.no_grad():\n",
        "    X.append(epoch)\n",
        "    Y.append(cost.item())\n",
        "\n",
        "    h_test = (P[items_test] * Q[users_test]).sum(dim = 1) + \\\n",
        "            mean + bias_item[items_test] + bias_user[users_test]\n",
        "    cost_test = F.mse_loss(h_test, ratings_test)\n",
        "\n",
        "    Y_test.append(cost_test.item())\n",
        "\n",
        "\n",
        "    if epoch % 100 == 0:\n",
        "      print(f\"epoch: {epoch}, cost: {cost.item()}, test: {cost_test.item()}\")\n",
        "\n",
        "plt.ylabel(\"MSE\")\n",
        "plt.xlabel(\"Epoch\")\n",
        "\n",
        "plt.plot(X, Y, label=\"Training MSE\")\n",
        "plt.plot(X, Y_test, label=\"Test MSE\")\n",
        "\n",
        "plt.legend()\n",
        "plt.show()"
      ],
      "metadata": {
        "colab": {
          "base_uri": "https://localhost:8080/",
          "height": 479
        },
        "id": "Y7KxpQdVVB8x",
        "outputId": "a6c8e2e0-ebc8-4baa-a19d-d2bd33390f14"
      },
      "execution_count": 13,
      "outputs": [
        {
          "output_type": "stream",
          "name": "stdout",
          "text": [
            "epoch: 0, cost: 12.883711814880371, test: 10.024322509765625\n",
            "epoch: 100, cost: 0.6035928130149841, test: 0.9184222221374512\n",
            "epoch: 200, cost: 0.5771156549453735, test: 0.9033694863319397\n",
            "epoch: 300, cost: 0.5731791853904724, test: 0.9075759649276733\n",
            "epoch: 400, cost: 0.5722533464431763, test: 0.9097028970718384\n",
            "epoch: 500, cost: 0.5718255043029785, test: 0.9098589420318604\n",
            "epoch: 600, cost: 0.5714981555938721, test: 0.9095349907875061\n",
            "epoch: 700, cost: 0.5712812542915344, test: 0.9091300964355469\n",
            "epoch: 800, cost: 0.571145236492157, test: 0.9084206819534302\n",
            "epoch: 900, cost: 0.5710276961326599, test: 0.9069774746894836\n",
            "epoch: 1000, cost: 0.5708578824996948, test: 0.9056040048599243\n"
          ]
        },
        {
          "output_type": "display_data",
          "data": {
            "text/plain": [
              "<Figure size 432x288 with 1 Axes>"
            ],
            "image/png": "[encoded data removed]"
          },
          "metadata": {
            "needs_background": "light"
          }
        }
      ]
    }
  ]
}