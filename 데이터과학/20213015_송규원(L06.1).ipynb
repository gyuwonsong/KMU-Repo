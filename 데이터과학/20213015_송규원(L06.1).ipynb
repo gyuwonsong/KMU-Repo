{
  "nbformat": 4,
  "nbformat_minor": 0,
  "metadata": {
    "colab": {
      "provenance": []
    },
    "kernelspec": {
      "name": "python3",
      "display_name": "Python 3"
    },
    "language_info": {
      "name": "python"
    }
  },
  "cells": [
    {
      "cell_type": "code",
      "execution_count": 17,
      "metadata": {
        "colab": {
          "base_uri": "https://localhost:8080/"
        },
        "id": "uT-4tAWB3SGg",
        "outputId": "d324540c-057d-4cf6-fa49-304978b61b54"
      },
      "outputs": [
        {
          "output_type": "stream",
          "name": "stdout",
          "text": [
            "epoch: 0, cost: 1.098612\n",
            "epoch: 100, cost: 0.279874\n",
            "epoch: 200, cost: 0.162209\n",
            "epoch: 300, cost: 0.105262\n",
            "epoch: 400, cost: 0.074083\n",
            "epoch: 500, cost: 0.055093\n",
            "epoch: 600, cost: 0.042634\n",
            "epoch: 700, cost: 0.034003\n",
            "epoch: 800, cost: 0.027768\n",
            "epoch: 900, cost: 0.023111\n",
            "epoch: 1000, cost: 0.019535\n",
            "epoch: 1100, cost: 0.016727\n",
            "epoch: 1200, cost: 0.014479\n",
            "epoch: 1300, cost: 0.012650\n",
            "epoch: 1400, cost: 0.011140\n",
            "epoch: 1500, cost: 0.009879\n",
            "epoch: 1600, cost: 0.008813\n",
            "epoch: 1700, cost: 0.007905\n",
            "epoch: 1800, cost: 0.007124\n",
            "epoch: 1900, cost: 0.006447\n",
            "epoch: 2000, cost: 0.005856\n",
            "epoch: 2100, cost: 0.005338\n",
            "epoch: 2200, cost: 0.004881\n",
            "epoch: 2300, cost: 0.004475\n",
            "epoch: 2400, cost: 0.004113\n",
            "epoch: 2500, cost: 0.003789\n",
            "epoch: 2600, cost: 0.003499\n",
            "epoch: 2700, cost: 0.003236\n",
            "epoch: 2800, cost: 0.002999\n",
            "epoch: 2900, cost: 0.002784\n",
            "epoch: 3000, cost: 0.002588\n"
          ]
        }
      ],
      "source": [
        "#Pytorch로 Softmax Regression 구현\n",
        "\n",
        "import torch\n",
        "\n",
        "x_train = torch.FloatTensor([ [1,2,1,1], [2,1,3,2], [3,1,3,4], [4,1,5,5], [1,7,5,5], [1,2,5,6], [1,6,6,6], [1,7,7,7] ])\n",
        "y_train = torch.FloatTensor([ [0,0,1], [0,0,1], [0,0,1], [0,1,0], [0,1,0], [0,1,0], [1,0,0], [1,0,0] ])\n",
        "\n",
        "W = torch.zeros(4, 3, requires_grad=True)\n",
        "b = torch.zeros(1, 3, requires_grad=True)\n",
        "optimizer = torch.optim.Adam([W,b], lr=0.1)\n",
        "\n",
        "for epoch in range(3001):\n",
        "  hypothesis = torch.softmax(torch.mm(x_train, W)+b, dim=1)\n",
        "  cost = -torch.mean(torch.sum(y_train * torch.log(hypothesis), dim=1))\n",
        "\n",
        "  optimizer.zero_grad()\n",
        "  cost.backward()\n",
        "  optimizer.step()\n",
        "\n",
        "  with torch.no_grad():\n",
        "    if epoch % 100 == 0:\n",
        "      print(\"epoch: {}, cost: {:.6f}\".format(epoch, cost.item()))"
      ]
    },
    {
      "cell_type": "code",
      "source": [
        "#x 가 [1,11,10,9], [1,3,4,3], [1,1,0,1] 일 때, y값은?\n",
        "x_test = torch.tensor([[1,11,10,9], [1,3,4,3], [1,1,0,1]],dtype = torch.float)\n",
        "\n",
        "h_test = torch.softmax(torch.mm(x_train, W)+ b, dim = 1)\n",
        "print(torch.argmax(h_test, dim=1))"
      ],
      "metadata": {
        "colab": {
          "base_uri": "https://localhost:8080/"
        },
        "id": "_tEKAb-K_7re",
        "outputId": "9edf1772-c8db-4818-8e53-f9b606ca1a87"
      },
      "execution_count": 19,
      "outputs": [
        {
          "output_type": "stream",
          "name": "stdout",
          "text": [
            "tensor([2, 2, 2, 1, 1, 1, 0, 0])\n"
          ]
        }
      ]
    },
    {
      "cell_type": "code",
      "source": [
        "#조금 더 깔끔하게 Softmax\n",
        "\n",
        "import torch.nn.functional as F\n",
        "import torch.nn as nn\n",
        "\n",
        "y_train = torch.LongTensor([2,2,2,1,1,1,0,0])\n",
        "\n",
        "model = nn.Linear(4,3)\n",
        "optimizer = torch.optim.Adam(model.parameters(), lr=0.1)\n",
        "\n",
        "for epoch in range(3001):\n",
        "  z = model(x_train)\n",
        "  cost = F.cross_entropy(z, y_train)\n",
        "\n",
        "  optimizer.zero_grad()\n",
        "  cost.backward()\n",
        "  optimizer.step()\n",
        "\n",
        "  with torch.no_grad():\n",
        "    if epoch % 100 == 0:\n",
        "      print(\"epoch: {}, cost: {:.6f}\".format(epoch, cost.item()))\n"
      ],
      "metadata": {
        "colab": {
          "base_uri": "https://localhost:8080/"
        },
        "id": "R08x8JrX4e21",
        "outputId": "49756a64-182b-4f8a-867a-f4d3a0d5d241"
      },
      "execution_count": 13,
      "outputs": [
        {
          "output_type": "stream",
          "name": "stdout",
          "text": [
            "epoch: 0, cost: 2.331901\n",
            "epoch: 100, cost: 0.343428\n",
            "epoch: 200, cost: 0.222951\n",
            "epoch: 300, cost: 0.153454\n",
            "epoch: 400, cost: 0.112187\n",
            "epoch: 500, cost: 0.085731\n",
            "epoch: 600, cost: 0.067665\n",
            "epoch: 700, cost: 0.054743\n",
            "epoch: 800, cost: 0.045170\n",
            "epoch: 900, cost: 0.037878\n",
            "epoch: 1000, cost: 0.032195\n",
            "epoch: 1100, cost: 0.027679\n",
            "epoch: 1200, cost: 0.024032\n",
            "epoch: 1300, cost: 0.021043\n",
            "epoch: 1400, cost: 0.018562\n",
            "epoch: 1500, cost: 0.016481\n",
            "epoch: 1600, cost: 0.014717\n",
            "epoch: 1700, cost: 0.013209\n",
            "epoch: 1800, cost: 0.011909\n",
            "epoch: 1900, cost: 0.010781\n",
            "epoch: 2000, cost: 0.009796\n",
            "epoch: 2100, cost: 0.008930\n",
            "epoch: 2200, cost: 0.008165\n",
            "epoch: 2300, cost: 0.007486\n",
            "epoch: 2400, cost: 0.006881\n",
            "epoch: 2500, cost: 0.006339\n",
            "epoch: 2600, cost: 0.005852\n",
            "epoch: 2700, cost: 0.005413\n",
            "epoch: 2800, cost: 0.005016\n",
            "epoch: 2900, cost: 0.004655\n",
            "epoch: 3000, cost: 0.004327\n"
          ]
        }
      ]
    },
    {
      "cell_type": "code",
      "source": [
        "#Softmax Regression with Sklearn\n",
        "\n",
        "import numpy as np\n",
        "from sklearn.linear_model import LogisticRegression\n",
        "\n",
        "x_train = np.array([ [1,2,1,1], [2,1,3,2], [3,1,3,4], [4,1,5,5], [1,7,5,5], [1,2,5,6], [1,6,6,6], [1,7,7,7] ])\n",
        "\n",
        "# y에 0, 1, 2 등 둘 이상의 class가 존재 => softmax regression\n",
        "y_train = np.array([ 2, 2, 2, 1, 1, 1, 0, 0 ])\n",
        "\n",
        "logistic = LogisticRegression(penalty = 'none') # 모델 생성\n",
        "logistic.fit(x_train, y_train) # 학습\n",
        "pred = logistic.predict([[1,11,10,9], [1,3,4,3], [1,1,0,1]]) # test case (값 예측)\n",
        "\n",
        "print(pred) # 출력"
      ],
      "metadata": {
        "colab": {
          "base_uri": "https://localhost:8080/"
        },
        "id": "9z6M-dKG7uGG",
        "outputId": "36d56b4a-fa5e-4a41-848d-812659232b98"
      },
      "execution_count": 21,
      "outputs": [
        {
          "output_type": "stream",
          "name": "stdout",
          "text": [
            "[0 1 2]\n"
          ]
        }
      ]
    }
  ]
}