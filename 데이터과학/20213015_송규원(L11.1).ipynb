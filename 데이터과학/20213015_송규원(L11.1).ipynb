{
  "nbformat": 4,
  "nbformat_minor": 0,
  "metadata": {
    "colab": {
      "provenance": []
    },
    "kernelspec": {
      "name": "python3",
      "display_name": "Python 3"
    },
    "language_info": {
      "name": "python"
    }
  },
  "cells": [
    {
      "cell_type": "code",
      "execution_count": 15,
      "metadata": {
        "colab": {
          "base_uri": "https://localhost:8080/"
        },
        "id": "xvRzs1iZimRZ",
        "outputId": "bb380306-7a8d-484c-9f50-bc482b3f4d57"
      },
      "outputs": [
        {
          "output_type": "execute_result",
          "data": {
            "text/plain": [
              "[([5.1, 3.5, 1.4, 0.2], 'Iris-setosa'),\n",
              " ([4.9, 3.0, 1.4, 0.2], 'Iris-setosa'),\n",
              " ([4.7, 3.2, 1.3, 0.2], 'Iris-setosa'),\n",
              " ([4.6, 3.1, 1.5, 0.2], 'Iris-setosa'),\n",
              " ([5.0, 3.6, 1.4, 0.2], 'Iris-setosa'),\n",
              " ([5.4, 3.9, 1.7, 0.4], 'Iris-setosa'),\n",
              " ([4.6, 3.4, 1.4, 0.3], 'Iris-setosa'),\n",
              " ([5.0, 3.4, 1.5, 0.2], 'Iris-setosa'),\n",
              " ([4.4, 2.9, 1.4, 0.2], 'Iris-setosa'),\n",
              " ([4.9, 3.1, 1.5, 0.1], 'Iris-setosa'),\n",
              " ([5.4, 3.7, 1.5, 0.2], 'Iris-setosa'),\n",
              " ([4.8, 3.4, 1.6, 0.2], 'Iris-setosa'),\n",
              " ([4.8, 3.0, 1.4, 0.1], 'Iris-setosa'),\n",
              " ([4.3, 3.0, 1.1, 0.1], 'Iris-setosa'),\n",
              " ([5.8, 4.0, 1.2, 0.2], 'Iris-setosa'),\n",
              " ([5.7, 4.4, 1.5, 0.4], 'Iris-setosa'),\n",
              " ([5.4, 3.9, 1.3, 0.4], 'Iris-setosa'),\n",
              " ([5.1, 3.5, 1.4, 0.3], 'Iris-setosa'),\n",
              " ([5.7, 3.8, 1.7, 0.3], 'Iris-setosa'),\n",
              " ([5.1, 3.8, 1.5, 0.3], 'Iris-setosa'),\n",
              " ([5.4, 3.4, 1.7, 0.2], 'Iris-setosa'),\n",
              " ([5.1, 3.7, 1.5, 0.4], 'Iris-setosa'),\n",
              " ([4.6, 3.6, 1.0, 0.2], 'Iris-setosa'),\n",
              " ([5.1, 3.3, 1.7, 0.5], 'Iris-setosa'),\n",
              " ([4.8, 3.4, 1.9, 0.2], 'Iris-setosa'),\n",
              " ([5.0, 3.0, 1.6, 0.2], 'Iris-setosa'),\n",
              " ([5.0, 3.4, 1.6, 0.4], 'Iris-setosa'),\n",
              " ([5.2, 3.5, 1.5, 0.2], 'Iris-setosa'),\n",
              " ([5.2, 3.4, 1.4, 0.2], 'Iris-setosa'),\n",
              " ([4.7, 3.2, 1.6, 0.2], 'Iris-setosa'),\n",
              " ([4.8, 3.1, 1.6, 0.2], 'Iris-setosa'),\n",
              " ([5.4, 3.4, 1.5, 0.4], 'Iris-setosa'),\n",
              " ([5.2, 4.1, 1.5, 0.1], 'Iris-setosa'),\n",
              " ([5.5, 4.2, 1.4, 0.2], 'Iris-setosa'),\n",
              " ([4.9, 3.1, 1.5, 0.1], 'Iris-setosa'),\n",
              " ([5.0, 3.2, 1.2, 0.2], 'Iris-setosa'),\n",
              " ([5.5, 3.5, 1.3, 0.2], 'Iris-setosa'),\n",
              " ([4.9, 3.1, 1.5, 0.1], 'Iris-setosa'),\n",
              " ([4.4, 3.0, 1.3, 0.2], 'Iris-setosa'),\n",
              " ([5.1, 3.4, 1.5, 0.2], 'Iris-setosa'),\n",
              " ([5.0, 3.5, 1.3, 0.3], 'Iris-setosa'),\n",
              " ([4.5, 2.3, 1.3, 0.3], 'Iris-setosa'),\n",
              " ([4.4, 3.2, 1.3, 0.2], 'Iris-setosa'),\n",
              " ([5.0, 3.5, 1.6, 0.6], 'Iris-setosa'),\n",
              " ([5.1, 3.8, 1.9, 0.4], 'Iris-setosa'),\n",
              " ([4.8, 3.0, 1.4, 0.3], 'Iris-setosa'),\n",
              " ([5.1, 3.8, 1.6, 0.2], 'Iris-setosa'),\n",
              " ([4.6, 3.2, 1.4, 0.2], 'Iris-setosa'),\n",
              " ([5.3, 3.7, 1.5, 0.2], 'Iris-setosa'),\n",
              " ([5.0, 3.3, 1.4, 0.2], 'Iris-setosa'),\n",
              " ([7.0, 3.2, 4.7, 1.4], 'Iris-versicolor'),\n",
              " ([6.4, 3.2, 4.5, 1.5], 'Iris-versicolor'),\n",
              " ([6.9, 3.1, 4.9, 1.5], 'Iris-versicolor'),\n",
              " ([5.5, 2.3, 4.0, 1.3], 'Iris-versicolor'),\n",
              " ([6.5, 2.8, 4.6, 1.5], 'Iris-versicolor'),\n",
              " ([5.7, 2.8, 4.5, 1.3], 'Iris-versicolor'),\n",
              " ([6.3, 3.3, 4.7, 1.6], 'Iris-versicolor'),\n",
              " ([4.9, 2.4, 3.3, 1.0], 'Iris-versicolor'),\n",
              " ([6.6, 2.9, 4.6, 1.3], 'Iris-versicolor'),\n",
              " ([5.2, 2.7, 3.9, 1.4], 'Iris-versicolor'),\n",
              " ([5.0, 2.0, 3.5, 1.0], 'Iris-versicolor'),\n",
              " ([5.9, 3.0, 4.2, 1.5], 'Iris-versicolor'),\n",
              " ([6.0, 2.2, 4.0, 1.0], 'Iris-versicolor'),\n",
              " ([6.1, 2.9, 4.7, 1.4], 'Iris-versicolor'),\n",
              " ([5.6, 2.9, 3.6, 1.3], 'Iris-versicolor'),\n",
              " ([6.7, 3.1, 4.4, 1.4], 'Iris-versicolor'),\n",
              " ([5.6, 3.0, 4.5, 1.5], 'Iris-versicolor'),\n",
              " ([5.8, 2.7, 4.1, 1.0], 'Iris-versicolor'),\n",
              " ([6.2, 2.2, 4.5, 1.5], 'Iris-versicolor'),\n",
              " ([5.6, 2.5, 3.9, 1.1], 'Iris-versicolor'),\n",
              " ([5.9, 3.2, 4.8, 1.8], 'Iris-versicolor'),\n",
              " ([6.1, 2.8, 4.0, 1.3], 'Iris-versicolor'),\n",
              " ([6.3, 2.5, 4.9, 1.5], 'Iris-versicolor'),\n",
              " ([6.1, 2.8, 4.7, 1.2], 'Iris-versicolor'),\n",
              " ([6.4, 2.9, 4.3, 1.3], 'Iris-versicolor'),\n",
              " ([6.6, 3.0, 4.4, 1.4], 'Iris-versicolor'),\n",
              " ([6.8, 2.8, 4.8, 1.4], 'Iris-versicolor'),\n",
              " ([6.7, 3.0, 5.0, 1.7], 'Iris-versicolor'),\n",
              " ([6.0, 2.9, 4.5, 1.5], 'Iris-versicolor'),\n",
              " ([5.7, 2.6, 3.5, 1.0], 'Iris-versicolor'),\n",
              " ([5.5, 2.4, 3.8, 1.1], 'Iris-versicolor'),\n",
              " ([5.5, 2.4, 3.7, 1.0], 'Iris-versicolor'),\n",
              " ([5.8, 2.7, 3.9, 1.2], 'Iris-versicolor'),\n",
              " ([6.0, 2.7, 5.1, 1.6], 'Iris-versicolor'),\n",
              " ([5.4, 3.0, 4.5, 1.5], 'Iris-versicolor'),\n",
              " ([6.0, 3.4, 4.5, 1.6], 'Iris-versicolor'),\n",
              " ([6.7, 3.1, 4.7, 1.5], 'Iris-versicolor'),\n",
              " ([6.3, 2.3, 4.4, 1.3], 'Iris-versicolor'),\n",
              " ([5.6, 3.0, 4.1, 1.3], 'Iris-versicolor'),\n",
              " ([5.5, 2.5, 4.0, 1.3], 'Iris-versicolor'),\n",
              " ([5.5, 2.6, 4.4, 1.2], 'Iris-versicolor'),\n",
              " ([6.1, 3.0, 4.6, 1.4], 'Iris-versicolor'),\n",
              " ([5.8, 2.6, 4.0, 1.2], 'Iris-versicolor'),\n",
              " ([5.0, 2.3, 3.3, 1.0], 'Iris-versicolor'),\n",
              " ([5.6, 2.7, 4.2, 1.3], 'Iris-versicolor'),\n",
              " ([5.7, 3.0, 4.2, 1.2], 'Iris-versicolor'),\n",
              " ([5.7, 2.9, 4.2, 1.3], 'Iris-versicolor'),\n",
              " ([6.2, 2.9, 4.3, 1.3], 'Iris-versicolor'),\n",
              " ([5.1, 2.5, 3.0, 1.1], 'Iris-versicolor'),\n",
              " ([5.7, 2.8, 4.1, 1.3], 'Iris-versicolor'),\n",
              " ([6.3, 3.3, 6.0, 2.5], 'Iris-virginica'),\n",
              " ([5.8, 2.7, 5.1, 1.9], 'Iris-virginica'),\n",
              " ([7.1, 3.0, 5.9, 2.1], 'Iris-virginica'),\n",
              " ([6.3, 2.9, 5.6, 1.8], 'Iris-virginica'),\n",
              " ([6.5, 3.0, 5.8, 2.2], 'Iris-virginica'),\n",
              " ([7.6, 3.0, 6.6, 2.1], 'Iris-virginica'),\n",
              " ([4.9, 2.5, 4.5, 1.7], 'Iris-virginica'),\n",
              " ([7.3, 2.9, 6.3, 1.8], 'Iris-virginica'),\n",
              " ([6.7, 2.5, 5.8, 1.8], 'Iris-virginica'),\n",
              " ([7.2, 3.6, 6.1, 2.5], 'Iris-virginica'),\n",
              " ([6.5, 3.2, 5.1, 2.0], 'Iris-virginica'),\n",
              " ([6.4, 2.7, 5.3, 1.9], 'Iris-virginica'),\n",
              " ([6.8, 3.0, 5.5, 2.1], 'Iris-virginica'),\n",
              " ([5.7, 2.5, 5.0, 2.0], 'Iris-virginica'),\n",
              " ([5.8, 2.8, 5.1, 2.4], 'Iris-virginica'),\n",
              " ([6.4, 3.2, 5.3, 2.3], 'Iris-virginica'),\n",
              " ([6.5, 3.0, 5.5, 1.8], 'Iris-virginica'),\n",
              " ([7.7, 3.8, 6.7, 2.2], 'Iris-virginica'),\n",
              " ([7.7, 2.6, 6.9, 2.3], 'Iris-virginica'),\n",
              " ([6.0, 2.2, 5.0, 1.5], 'Iris-virginica'),\n",
              " ([6.9, 3.2, 5.7, 2.3], 'Iris-virginica'),\n",
              " ([5.6, 2.8, 4.9, 2.0], 'Iris-virginica'),\n",
              " ([7.7, 2.8, 6.7, 2.0], 'Iris-virginica'),\n",
              " ([6.3, 2.7, 4.9, 1.8], 'Iris-virginica'),\n",
              " ([6.7, 3.3, 5.7, 2.1], 'Iris-virginica'),\n",
              " ([7.2, 3.2, 6.0, 1.8], 'Iris-virginica'),\n",
              " ([6.2, 2.8, 4.8, 1.8], 'Iris-virginica'),\n",
              " ([6.1, 3.0, 4.9, 1.8], 'Iris-virginica'),\n",
              " ([6.4, 2.8, 5.6, 2.1], 'Iris-virginica'),\n",
              " ([7.2, 3.0, 5.8, 1.6], 'Iris-virginica'),\n",
              " ([7.4, 2.8, 6.1, 1.9], 'Iris-virginica'),\n",
              " ([7.9, 3.8, 6.4, 2.0], 'Iris-virginica'),\n",
              " ([6.4, 2.8, 5.6, 2.2], 'Iris-virginica'),\n",
              " ([6.3, 2.8, 5.1, 1.5], 'Iris-virginica'),\n",
              " ([6.1, 2.6, 5.6, 1.4], 'Iris-virginica'),\n",
              " ([7.7, 3.0, 6.1, 2.3], 'Iris-virginica'),\n",
              " ([6.3, 3.4, 5.6, 2.4], 'Iris-virginica'),\n",
              " ([6.4, 3.1, 5.5, 1.8], 'Iris-virginica'),\n",
              " ([6.0, 3.0, 4.8, 1.8], 'Iris-virginica'),\n",
              " ([6.9, 3.1, 5.4, 2.1], 'Iris-virginica'),\n",
              " ([6.7, 3.1, 5.6, 2.4], 'Iris-virginica'),\n",
              " ([6.9, 3.1, 5.1, 2.3], 'Iris-virginica'),\n",
              " ([5.8, 2.7, 5.1, 1.9], 'Iris-virginica'),\n",
              " ([6.8, 3.2, 5.9, 2.3], 'Iris-virginica'),\n",
              " ([6.7, 3.3, 5.7, 2.5], 'Iris-virginica'),\n",
              " ([6.7, 3.0, 5.2, 2.3], 'Iris-virginica'),\n",
              " ([6.3, 2.5, 5.0, 1.9], 'Iris-virginica'),\n",
              " ([6.5, 3.0, 5.2, 2.0], 'Iris-virginica'),\n",
              " ([6.2, 3.4, 5.4, 2.3], 'Iris-virginica'),\n",
              " ([5.9, 3.0, 5.1, 1.8], 'Iris-virginica')]"
            ]
          },
          "metadata": {},
          "execution_count": 15
        }
      ],
      "source": [
        "import pandas as pd\n",
        "\n",
        "data = []\n",
        "\n",
        "for Line in open(\"iris.data\", \"r\"):\n",
        "  raw = Line.split(\",\")\n",
        "  x = [float(r) for r in raw[:4]]\n",
        "  y = raw[4].strip()\n",
        "  data.append((x, y))\n",
        "\n",
        "data"
      ]
    },
    {
      "cell_type": "code",
      "source": [
        "def distance(a, b):\n",
        "  s = 0\n",
        "  for x, y in zip(a, b):\n",
        "    s += (x - y) ** 2\n",
        "  return s ** 0.5\n",
        "\n",
        "def distance2(a, b):\n",
        "  return sum((x - y) ** 2 for x, y in zip(a, b)) ** 0.5"
      ],
      "metadata": {
        "id": "-MBZMg_GoWUP"
      },
      "execution_count": 16,
      "outputs": []
    },
    {
      "cell_type": "code",
      "source": [
        "a = distance(data[0][0], data[1][0])\n",
        "b = distance2(data[0][0], data[1][0])\n",
        "\n",
        "print(a, b)"
      ],
      "metadata": {
        "colab": {
          "base_uri": "https://localhost:8080/"
        },
        "id": "AE2o7aCOthja",
        "outputId": "21b80351-bbb0-481b-b161-7d06242be756"
      },
      "execution_count": 17,
      "outputs": [
        {
          "output_type": "stream",
          "name": "stdout",
          "text": [
            "0.5385164807134502 0.5385164807134502\n"
          ]
        }
      ]
    },
    {
      "cell_type": "code",
      "source": [
        "from collections import Counter\n",
        "\n",
        "def knn_classify(k, query, train):\n",
        "  # query = [6.3, 2.7, 4.9, 1.8]\n",
        "  # train = ([6.5, 3.0, 5.2, 2.0], 'Iris-virginica'),\n",
        "          # ([6.2, 3.4, 5.4, 2.3], 'Iris-virginica'),\n",
        "          # ([5.9, 3.0, 5.1, 1.8], 'Iris-virginica')] \n",
        "\n",
        "  # ex = [(23.5, 'Iris-virginica'), (51.3, 'Iris-virginica'), ...]\n",
        "  # ex.sort()\n",
        "\n",
        "  res = sorted((distance2(query, y), L) for y, L in train)[:k]\n",
        "  cnts = Counter(r[1] for r in res)\n",
        "  mc = cnts.most_common(2)\n",
        "\n",
        "  while len(cnts) >= 2 and mc[0][1] == mc[1][1]:\n",
        "    res = res[:-1]\n",
        "    cnts = Counter(r[1] for r in res)\n",
        "    mc = cnts.most_common(2)\n",
        "\n",
        "  return cnts.most_common(1)[0][0]\n",
        "\n",
        "knn_classify(10, [5.5, 3.1, 5.0, 1.7], data)"
      ],
      "metadata": {
        "colab": {
          "base_uri": "https://localhost:8080/",
          "height": 35
        },
        "id": "-Iu76baFt0Co",
        "outputId": "b026961d-0de5-4d5d-f549-26a4be2ad81c"
      },
      "execution_count": 27,
      "outputs": [
        {
          "output_type": "execute_result",
          "data": {
            "text/plain": [
              "'Iris-virginica'"
            ],
            "application/vnd.google.colaboratory.intrinsic+json": {
              "type": "string"
            }
          },
          "metadata": {},
          "execution_count": 27
        }
      ]
    },
    {
      "cell_type": "code",
      "source": [
        "k = 5\n",
        "\n",
        "n_correct = 0\n",
        "n_incorrect = 0\n",
        "\n",
        "for i, q in enumerate(data):\n",
        "  # q = ([6.5, 3.0, 5.2, 2.0], 'Iris-virginica'),\n",
        "          # ([6.2, 3.4, 5.4, 2.3], 'Iris-virginica'),\n",
        "          # ([5.9, 3.0, 5.1, 1.8], 'Iris-virginica')] \n",
        "  new_data = []\n",
        "  for j, d in enumerate(data):\n",
        "    if i == j: continue;\n",
        "    new_data.append(d)\n",
        "\n",
        "  ans = knn_classify(k, q[0], new_data)\n",
        "  true_ans = q[1]\n",
        "\n",
        "  if ans == true_ans:\n",
        "    n_correct += 1\n",
        "  else:\n",
        "    n_incorrect += 1\n",
        "    \n",
        "print(\"accuracy\", n_correct/ (n_correct + n_incorrect))"
      ],
      "metadata": {
        "colab": {
          "base_uri": "https://localhost:8080/"
        },
        "id": "S3pOokdx2ED6",
        "outputId": "73aadf44-62d5-47f0-9823-19d4b1c45bb5"
      },
      "execution_count": 32,
      "outputs": [
        {
          "output_type": "stream",
          "name": "stdout",
          "text": [
            "accuracy 0.9666666666666667\n"
          ]
        }
      ]
    },
    {
      "cell_type": "code",
      "source": [
        "import matplotlib.pyplot as plt\n",
        "\n",
        "X = []\n",
        "Y = []\n",
        "\n",
        "for k in range(1, 50):\n",
        "  n_correct = 0\n",
        "  n_incorrect = 0\n",
        "\n",
        "  for i, q in enumerate(data):\n",
        "    # q = ([6.5, 3.0, 5.2, 2.0], 'Iris-virginica'),\n",
        "            # ([6.2, 3.4, 5.4, 2.3], 'Iris-virginica'),\n",
        "            # ([5.9, 3.0, 5.1, 1.8], 'Iris-virginica')] \n",
        "    new_data = []\n",
        "    for j, d in enumerate(data):\n",
        "      if i == j: continue;\n",
        "      new_data.append(d)\n",
        "\n",
        "    ans = knn_classify(k, q[0], new_data)\n",
        "    true_ans = q[1]\n",
        "\n",
        "    if ans == true_ans:\n",
        "      n_correct += 1\n",
        "    else:\n",
        "      n_incorrect += 1\n",
        "    \n",
        "  X.append(k)\n",
        "  Y.append(n_correct/ (n_correct + n_incorrect))\n",
        "\n",
        "plt.plot(X, Y)\n",
        "plt.show()"
      ],
      "metadata": {
        "colab": {
          "base_uri": "https://localhost:8080/",
          "height": 265
        },
        "id": "Ih3nSPap4mOu",
        "outputId": "baf1009f-e484-41d9-daed-5265d3f05b27"
      },
      "execution_count": 34,
      "outputs": [
        {
          "output_type": "display_data",
          "data": {
            "text/plain": [
              "<Figure size 432x288 with 1 Axes>"
            ],
            "image/png": "[encoded data removed]"
          },
          "metadata": {
            "needs_background": "light"
          }
        }
      ]
    }
  ]
}